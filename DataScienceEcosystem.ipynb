{
 "cells": [
  {
   "cell_type": "markdown",
   "id": "8d403673-e756-4ae6-964d-e6915fe09a7b",
   "metadata": {},
   "source": [
    "# Data Science Tools and Ecosystem"
   ]
  },
  {
   "cell_type": "markdown",
   "id": "ecb54fe5-67e6-4a28-b743-9f254c853f4a",
   "metadata": {},
   "source": [
    "In this notebook, Data Science Tools and Ecosystem are summarized."
   ]
  },
  {
   "cell_type": "markdown",
   "id": "1857f76e-073b-404a-bfc7-e11653913626",
   "metadata": {},
   "source": [
    "Objectives:\n",
    "+ List popular languages for Data Science\n",
    "+ List libraries used by Data Scientists\n",
    "+ List Data Science tools"
   ]
  },
  {
   "cell_type": "markdown",
   "id": "d2e881a2-c17d-4c26-b8a9-0ffb4bbb43df",
   "metadata": {},
   "source": [
    "Some of the popular languages that Data Scientists use are:\n",
    "\n",
    "1. SQL\n",
    "2. R\n",
    "3. Python\n",
    "4. Scala\n",
    "5. Java\n",
    "6. C++\n",
    "7. Julia"
   ]
  },
  {
   "cell_type": "markdown",
   "id": "ddede042-1b54-4d33-9a70-125ea4993e55",
   "metadata": {},
   "source": [
    "Some of the commonly used libraries used by Data Scientists include:\n",
    "\n",
    "1. Pandas\n",
    "2. Matplotlib\n",
    "3. NumPy\n",
    "4. Seaborn"
   ]
  },
  {
   "cell_type": "markdown",
   "id": "e05b821a-a6db-4f54-a101-24aaf6557d2e",
   "metadata": {},
   "source": [
    "|Data Science Tools|\n",
    "|--------------------|\n",
    "|Jupyter Notebook|\n",
    "|Microsoft Power BI|\n",
    "|IBM Watson Studio|\n",
    "\n"
   ]
  },
  {
   "cell_type": "markdown",
   "id": "b8f46c0f-b60a-4d0e-9bac-908c2c64107a",
   "metadata": {},
   "source": [
    "### Below are a few examples of evaluating arithmetic expressions in Python"
   ]
  },
  {
   "cell_type": "code",
   "execution_count": 1,
   "id": "55f067d2-60fe-4f33-aed3-ba0ec4dc3968",
   "metadata": {
    "tags": []
   },
   "outputs": [
    {
     "data": {
      "text/plain": [
       "17"
      ]
     },
     "execution_count": 1,
     "metadata": {},
     "output_type": "execute_result"
    }
   ],
   "source": [
    "# This a simple arithmetic expression to mutiply then add integers\n",
    "\n",
    "(3*4)+5"
   ]
  },
  {
   "cell_type": "code",
   "execution_count": 4,
   "id": "ca08956d-6756-4838-b398-103be65f913f",
   "metadata": {
    "tags": []
   },
   "outputs": [
    {
     "data": {
      "text/plain": [
       "3.3333333333333335"
      ]
     },
     "execution_count": 4,
     "metadata": {},
     "output_type": "execute_result"
    }
   ],
   "source": [
    "#  This will convert 200 minutes to hours by diving by 60\n",
    "\n",
    "200/60"
   ]
  },
  {
   "cell_type": "markdown",
   "id": "b2ea8a7f-80df-40ca-86be-31c5c0b9d991",
   "metadata": {},
   "source": [
    "## Author\n",
    "Rodney JOURNAL"
   ]
  }
 ],
 "metadata": {
  "kernelspec": {
   "display_name": "Python",
   "language": "python",
   "name": "conda-env-python-py"
  },
  "language_info": {
   "codemirror_mode": {
    "name": "ipython",
    "version": 3
   },
   "file_extension": ".py",
   "mimetype": "text/x-python",
   "name": "python",
   "nbconvert_exporter": "python",
   "pygments_lexer": "ipython3",
   "version": "3.7.12"
  }
 },
 "nbformat": 4,
 "nbformat_minor": 5
}
